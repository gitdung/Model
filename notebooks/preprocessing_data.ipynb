{
 "cells": [
  {
   "cell_type": "code",
   "execution_count": 26,
   "metadata": {},
   "outputs": [
    {
     "name": "stderr",
     "output_type": "stream",
     "text": [
      "Found cached dataset csv (C:/Users/ndbao/.cache/huggingface/datasets/csv/default-0c4414d49975c6d9/0.0.0/6954658bab30a358235fa864b05cf819af0e179325c740e4bc853bcc7ec513e1)\n",
      "Found cached dataset csv (C:/Users/ndbao/.cache/huggingface/datasets/csv/default-0c4414d49975c6d9/0.0.0/6954658bab30a358235fa864b05cf819af0e179325c740e4bc853bcc7ec513e1)\n",
      "Found cached dataset csv (C:/Users/ndbao/.cache/huggingface/datasets/csv/default-e2d61f53b2ce9ffa/0.0.0/6954658bab30a358235fa864b05cf819af0e179325c740e4bc853bcc7ec513e1)\n"
     ]
    },
    {
     "name": "stdout",
     "output_type": "stream",
     "text": [
      "Dataset({\n",
      "    features: ['url', 'label'],\n",
      "    num_rows: 24000\n",
      "})\n",
      "Dataset({\n",
      "    features: ['url', 'label'],\n",
      "    num_rows: 4000\n",
      "})\n",
      "Dataset({\n",
      "    features: ['url', 'label'],\n",
      "    num_rows: 3567\n",
      "})\n"
     ]
    }
   ],
   "source": [
    "from datasets import load_dataset\n",
    "data_train = load_dataset(\"csv\", data_files=\"D:\\\\Workspace\\\\Project_VNNIC\\\\datas\\\\data_train\\\\v1\\\\train.csv\", sep=\",\" , names=[\"url\", \"label\"] , split=\"train[0:24000]\")\n",
    "data_val = load_dataset(\"csv\", data_files=\"D:\\\\Workspace\\\\Project_VNNIC\\\\datas\\\\data_train\\\\v1\\\\train.csv\", sep=\",\" , names=[\"url\", \"label\"] , split=\"train[24000:]\")\n",
    "data_test = load_dataset(\"csv\", data_files=\"D:\\\\Workspace\\Project_VNNIC\\\\datas\\\\data_train\\\\v1\\\\test.csv\", sep=\",\" , names=[\"url\", \"label\"] , split=\"train[0:]\")\n",
    "\n",
    "print(data_train)\n",
    "print(data_val)\n",
    "print(data_test)"
   ]
  },
  {
   "cell_type": "code",
   "execution_count": 1,
   "metadata": {},
   "outputs": [
    {
     "name": "stdout",
     "output_type": "stream",
     "text": [
      "6\n"
     ]
    },
    {
     "ename": "TypeError",
     "evalue": "LexicalURLFeature.get_entropy() missing 1 required positional argument: 'text'",
     "output_type": "error",
     "traceback": [
      "\u001b[1;31m---------------------------------------------------------------------------\u001b[0m",
      "\u001b[1;31mTypeError\u001b[0m                                 Traceback (most recent call last)",
      "Cell \u001b[1;32mIn[1], line 17\u001b[0m\n\u001b[0;32m     14\u001b[0m feature \u001b[38;5;241m=\u001b[39m LexicalURLFeature(url)\n\u001b[0;32m     16\u001b[0m \u001b[38;5;28mprint\u001b[39m(feature\u001b[38;5;241m.\u001b[39murl_length()) \n\u001b[1;32m---> 17\u001b[0m \u001b[38;5;28mprint\u001b[39m(feature\u001b[38;5;241m.\u001b[39mget_entropy()) \n\u001b[0;32m     18\u001b[0m \u001b[38;5;28mprint\u001b[39m(feature\u001b[38;5;241m.\u001b[39mpercentage_digits()) \n\u001b[0;32m     19\u001b[0m \u001b[38;5;28mprint\u001b[39m(feature\u001b[38;5;241m.\u001b[39murl_length())\n",
      "\u001b[1;31mTypeError\u001b[0m: LexicalURLFeature.get_entropy() missing 1 required positional argument: 'text'"
     ]
    }
   ],
   "source": [
    "import sys\n",
    "sys.path.insert(1,'D:\\\\Workspace\\\\Project_VNNIC')\n",
    "from main.featureURL.lexical_feature import LexicalURLFeature\n",
    "\n",
    "def nomalize_url(data):\n",
    "    url = data['url'].replace(\".vn\", \"\")\n",
    "    url = url.replace(\".\", \" \").strip()\n",
    "    return {\n",
    "        'url' : url\n",
    "    }\n",
    "\n",
    "url = \"th9881.com\"\n",
    "\n",
    "feature = LexicalURLFeature(url)\n",
    "\n",
    "print(feature.url_length()) \n",
    "print(feature.get_entropy()) \n",
    "print(feature.percentage_digits()) \n",
    "print(feature.url_length()) \n",
    "\n"
   ]
  }
 ],
 "metadata": {
  "kernelspec": {
   "display_name": "base",
   "language": "python",
   "name": "python3"
  },
  "language_info": {
   "codemirror_mode": {
    "name": "ipython",
    "version": 3
   },
   "file_extension": ".py",
   "mimetype": "text/x-python",
   "name": "python",
   "nbconvert_exporter": "python",
   "pygments_lexer": "ipython3",
   "version": "3.11.5"
  }
 },
 "nbformat": 4,
 "nbformat_minor": 2
}
